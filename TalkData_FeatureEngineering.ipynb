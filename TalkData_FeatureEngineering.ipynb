{
 "cells": [
  {
   "cell_type": "markdown",
   "metadata": {
    "collapsed": false
   },
   "source": [
    "## Feature Extraction"
   ]
  },
  {
   "cell_type": "code",
   "execution_count": 1,
   "metadata": {
    "collapsed": false
   },
   "outputs": [
    {
     "name": "stdout",
     "output_type": "stream",
     "text": [
      "Using matplotlib backend: MacOSX\n"
     ]
    }
   ],
   "source": [
    "import numpy as np\n",
    "import pandas as pd\n",
    "import scipy\n",
    "%matplotlib\n",
    "%matplotlib inline\n",
    "import matplotlib.pyplot as plt\n",
    "import seaborn as sns\n",
    "import os\n",
    "import sklearn\n",
    "from sklearn import preprocessing\n",
    "from IPython.core.interactiveshell import InteractiveShell\n",
    "InteractiveShell.ast_node_interactivity = \"all\""
   ]
  },
  {
   "cell_type": "code",
   "execution_count": 2,
   "metadata": {
    "collapsed": false
   },
   "outputs": [
    {
     "data": {
      "text/plain": [
       "'/Users/Vivek/GoogleDrive/Spring17/Data_Mining/Project/talkingdata/Vivek'"
      ]
     },
     "execution_count": 2,
     "metadata": {},
     "output_type": "execute_result"
    }
   ],
   "source": [
    "%pwd"
   ]
  },
  {
   "cell_type": "code",
   "execution_count": null,
   "metadata": {
    "collapsed": true
   },
   "outputs": [],
   "source": []
  },
  {
   "cell_type": "code",
   "execution_count": 3,
   "metadata": {
    "collapsed": false
   },
   "outputs": [],
   "source": [
    "directory = \"/Users/Vivek/GoogleDrive/Spring17/Data_Mining/Project/data\" #'../input' \n",
    "gender_age_train = pd.read_csv(os.path.join(directory, 'gender_age_train.csv'))\n",
    "gender_age_test = pd.read_csv(os.path.join(directory, 'gender_age_test.csv'))\n",
    "app_events = pd.read_csv(os.path.join(directory, 'app_events.csv'))\n",
    "app_labels = pd.read_csv(os.path.join(directory, 'app_labels.csv'))\n",
    "label_cat = pd.read_csv(os.path.join(directory,'label_categories.csv'))\n",
    "events = pd.read_csv(os.path.join(directory, 'events.csv'))\n",
    "phone = pd.read_csv(os.path.join(directory, 'phone_brand_device_model.csv'))\n",
    "sample = pd.read_csv(os.path.join(directory,'sample_submission.csv'))"
   ]
  },
  {
   "cell_type": "code",
   "execution_count": 4,
   "metadata": {
    "collapsed": false
   },
   "outputs": [
    {
     "data": {
      "text/html": [
       "<div>\n",
       "<table border=\"1\" class=\"dataframe\">\n",
       "  <thead>\n",
       "    <tr style=\"text-align: right;\">\n",
       "      <th></th>\n",
       "      <th>device_id</th>\n",
       "      <th>gender</th>\n",
       "      <th>age</th>\n",
       "      <th>group</th>\n",
       "    </tr>\n",
       "  </thead>\n",
       "  <tbody>\n",
       "    <tr>\n",
       "      <th>0</th>\n",
       "      <td>-8076087639492063270</td>\n",
       "      <td>M</td>\n",
       "      <td>35</td>\n",
       "      <td>M32-38</td>\n",
       "    </tr>\n",
       "    <tr>\n",
       "      <th>1</th>\n",
       "      <td>-2897161552818060146</td>\n",
       "      <td>M</td>\n",
       "      <td>35</td>\n",
       "      <td>M32-38</td>\n",
       "    </tr>\n",
       "    <tr>\n",
       "      <th>2</th>\n",
       "      <td>-8260683887967679142</td>\n",
       "      <td>M</td>\n",
       "      <td>35</td>\n",
       "      <td>M32-38</td>\n",
       "    </tr>\n",
       "    <tr>\n",
       "      <th>3</th>\n",
       "      <td>-4938849341048082022</td>\n",
       "      <td>M</td>\n",
       "      <td>30</td>\n",
       "      <td>M29-31</td>\n",
       "    </tr>\n",
       "    <tr>\n",
       "      <th>4</th>\n",
       "      <td>245133531816851882</td>\n",
       "      <td>M</td>\n",
       "      <td>30</td>\n",
       "      <td>M29-31</td>\n",
       "    </tr>\n",
       "  </tbody>\n",
       "</table>\n",
       "</div>"
      ],
      "text/plain": [
       "             device_id gender  age   group\n",
       "0 -8076087639492063270      M   35  M32-38\n",
       "1 -2897161552818060146      M   35  M32-38\n",
       "2 -8260683887967679142      M   35  M32-38\n",
       "3 -4938849341048082022      M   30  M29-31\n",
       "4   245133531816851882      M   30  M29-31"
      ]
     },
     "execution_count": 4,
     "metadata": {},
     "output_type": "execute_result"
    },
    {
     "data": {
      "text/html": [
       "<div>\n",
       "<table border=\"1\" class=\"dataframe\">\n",
       "  <thead>\n",
       "    <tr style=\"text-align: right;\">\n",
       "      <th></th>\n",
       "      <th>device_id</th>\n",
       "      <th>F23-</th>\n",
       "      <th>F24-26</th>\n",
       "      <th>F27-28</th>\n",
       "      <th>F29-32</th>\n",
       "      <th>F33-42</th>\n",
       "      <th>F43+</th>\n",
       "      <th>M22-</th>\n",
       "      <th>M23-26</th>\n",
       "      <th>M27-28</th>\n",
       "      <th>M29-31</th>\n",
       "      <th>M32-38</th>\n",
       "      <th>M39+</th>\n",
       "    </tr>\n",
       "  </thead>\n",
       "  <tbody>\n",
       "    <tr>\n",
       "      <th>0</th>\n",
       "      <td>1002079943728939269</td>\n",
       "      <td>0.0833</td>\n",
       "      <td>0.0833</td>\n",
       "      <td>0.0833</td>\n",
       "      <td>0.0833</td>\n",
       "      <td>0.0833</td>\n",
       "      <td>0.0833</td>\n",
       "      <td>0.0833</td>\n",
       "      <td>0.0833</td>\n",
       "      <td>0.0833</td>\n",
       "      <td>0.0833</td>\n",
       "      <td>0.0833</td>\n",
       "      <td>0.0833</td>\n",
       "    </tr>\n",
       "    <tr>\n",
       "      <th>1</th>\n",
       "      <td>-1547860181818787117</td>\n",
       "      <td>0.0833</td>\n",
       "      <td>0.0833</td>\n",
       "      <td>0.0833</td>\n",
       "      <td>0.0833</td>\n",
       "      <td>0.0833</td>\n",
       "      <td>0.0833</td>\n",
       "      <td>0.0833</td>\n",
       "      <td>0.0833</td>\n",
       "      <td>0.0833</td>\n",
       "      <td>0.0833</td>\n",
       "      <td>0.0833</td>\n",
       "      <td>0.0833</td>\n",
       "    </tr>\n",
       "    <tr>\n",
       "      <th>2</th>\n",
       "      <td>7374582448058474277</td>\n",
       "      <td>0.0833</td>\n",
       "      <td>0.0833</td>\n",
       "      <td>0.0833</td>\n",
       "      <td>0.0833</td>\n",
       "      <td>0.0833</td>\n",
       "      <td>0.0833</td>\n",
       "      <td>0.0833</td>\n",
       "      <td>0.0833</td>\n",
       "      <td>0.0833</td>\n",
       "      <td>0.0833</td>\n",
       "      <td>0.0833</td>\n",
       "      <td>0.0833</td>\n",
       "    </tr>\n",
       "    <tr>\n",
       "      <th>3</th>\n",
       "      <td>-6220210354783429585</td>\n",
       "      <td>0.0833</td>\n",
       "      <td>0.0833</td>\n",
       "      <td>0.0833</td>\n",
       "      <td>0.0833</td>\n",
       "      <td>0.0833</td>\n",
       "      <td>0.0833</td>\n",
       "      <td>0.0833</td>\n",
       "      <td>0.0833</td>\n",
       "      <td>0.0833</td>\n",
       "      <td>0.0833</td>\n",
       "      <td>0.0833</td>\n",
       "      <td>0.0833</td>\n",
       "    </tr>\n",
       "    <tr>\n",
       "      <th>4</th>\n",
       "      <td>-5893464122623104785</td>\n",
       "      <td>0.0833</td>\n",
       "      <td>0.0833</td>\n",
       "      <td>0.0833</td>\n",
       "      <td>0.0833</td>\n",
       "      <td>0.0833</td>\n",
       "      <td>0.0833</td>\n",
       "      <td>0.0833</td>\n",
       "      <td>0.0833</td>\n",
       "      <td>0.0833</td>\n",
       "      <td>0.0833</td>\n",
       "      <td>0.0833</td>\n",
       "      <td>0.0833</td>\n",
       "    </tr>\n",
       "  </tbody>\n",
       "</table>\n",
       "</div>"
      ],
      "text/plain": [
       "             device_id    F23-  F24-26  F27-28  F29-32  F33-42    F43+  \\\n",
       "0  1002079943728939269  0.0833  0.0833  0.0833  0.0833  0.0833  0.0833   \n",
       "1 -1547860181818787117  0.0833  0.0833  0.0833  0.0833  0.0833  0.0833   \n",
       "2  7374582448058474277  0.0833  0.0833  0.0833  0.0833  0.0833  0.0833   \n",
       "3 -6220210354783429585  0.0833  0.0833  0.0833  0.0833  0.0833  0.0833   \n",
       "4 -5893464122623104785  0.0833  0.0833  0.0833  0.0833  0.0833  0.0833   \n",
       "\n",
       "     M22-  M23-26  M27-28  M29-31  M32-38    M39+  \n",
       "0  0.0833  0.0833  0.0833  0.0833  0.0833  0.0833  \n",
       "1  0.0833  0.0833  0.0833  0.0833  0.0833  0.0833  \n",
       "2  0.0833  0.0833  0.0833  0.0833  0.0833  0.0833  \n",
       "3  0.0833  0.0833  0.0833  0.0833  0.0833  0.0833  \n",
       "4  0.0833  0.0833  0.0833  0.0833  0.0833  0.0833  "
      ]
     },
     "execution_count": 4,
     "metadata": {},
     "output_type": "execute_result"
    }
   ],
   "source": [
    "gender_age_train.head()\n",
    "sample.head()"
   ]
  },
  {
   "cell_type": "code",
   "execution_count": 7,
   "metadata": {
    "collapsed": false
   },
   "outputs": [
    {
     "name": "stdout",
     "output_type": "stream",
     "text": [
      "Total no of device id in trainign data: \n",
      " 74645\n",
      "----------------------------\n",
      "No of Unique device id in training data: \n",
      " 74645\n",
      "____________________________________________\n",
      "Total no of device id in testing data: \n",
      " 112071\n",
      "----------------------------\n",
      "No of Unique device id in testing data: \n",
      " 112071\n"
     ]
    }
   ],
   "source": [
    "print('Total no of device id in trainign data: \\n', len(gender_age_train.device_id))\n",
    "print(\"----------------------------\")\n",
    "print('No of Unique device id in training data: \\n', len(np.unique(gender_age_train.device_id))) \n",
    "print(\"____________________________________________\")\n",
    "print('Total no of device id in testing data: \\n', len(gender_age_test.device_id))\n",
    "print(\"----------------------------\")\n",
    "print('No of Unique device id in testing data: \\n', len(np.unique(gender_age_test.device_id)))"
   ]
  },
  {
   "cell_type": "markdown",
   "metadata": {},
   "source": [
    " Now, I will use preprocessing.LabelEncoder / OneHotEncoding to change categorical features to binary \n",
    " Then, I will use preprocessing.LabelBinarizer to change create new features using numerical values of features"
   ]
  },
  {
   "cell_type": "code",
   "execution_count": null,
   "metadata": {
    "collapsed": true
   },
   "outputs": [],
   "source": []
  },
  {
   "cell_type": "markdown",
   "metadata": {
    "collapsed": false
   },
   "source": [
    "\n",
    "### New Feautures:\n",
    "    le = preprocessing.LabelEncoder() \n",
    "    fit = le.fit(gender_age_train['gender'])\n",
    "    fit.classes_____________________\n",
    "    using label binarizer on binary type categorial variable will give you jsut a single column and on other size of new       features = no of different categorical values\n",
    "    Therefore I will use mapping to chaange gender and label binarizer for all the other\n",
    "    \n",
    "    Can also do the same using sparse matrix method from scipy, but I like this method\n"
   ]
  },
  {
   "cell_type": "code",
   "execution_count": 8,
   "metadata": {
    "collapsed": false
   },
   "outputs": [
    {
     "data": {
      "text/html": [
       "<div>\n",
       "<table border=\"1\" class=\"dataframe\">\n",
       "  <thead>\n",
       "    <tr style=\"text-align: right;\">\n",
       "      <th></th>\n",
       "      <th>device_id</th>\n",
       "      <th>gender</th>\n",
       "      <th>age</th>\n",
       "      <th>group</th>\n",
       "    </tr>\n",
       "  </thead>\n",
       "  <tbody>\n",
       "    <tr>\n",
       "      <th>0</th>\n",
       "      <td>-8076087639492063270</td>\n",
       "      <td>1</td>\n",
       "      <td>35</td>\n",
       "      <td>M32-38</td>\n",
       "    </tr>\n",
       "    <tr>\n",
       "      <th>1</th>\n",
       "      <td>-2897161552818060146</td>\n",
       "      <td>1</td>\n",
       "      <td>35</td>\n",
       "      <td>M32-38</td>\n",
       "    </tr>\n",
       "  </tbody>\n",
       "</table>\n",
       "</div>"
      ],
      "text/plain": [
       "             device_id  gender  age   group\n",
       "0 -8076087639492063270       1   35  M32-38\n",
       "1 -2897161552818060146       1   35  M32-38"
      ]
     },
     "execution_count": 8,
     "metadata": {},
     "output_type": "execute_result"
    }
   ],
   "source": [
    "# mapping yes/ no to gender to True/False\n",
    "d = {'M': 1, 'F': 0}; # you need to check what are the values in gender for this mapping\n",
    "gender_age_train['gender']=gender_age_train['gender'].map(d);\n",
    "gender_age_train.head(2)"
   ]
  },
  {
   "cell_type": "code",
   "execution_count": 9,
   "metadata": {
    "collapsed": false
   },
   "outputs": [
    {
     "name": "stdout",
     "output_type": "stream",
     "text": [
      "______________________________________________---\n"
     ]
    },
    {
     "data": {
      "text/html": [
       "<div>\n",
       "<table border=\"1\" class=\"dataframe\">\n",
       "  <thead>\n",
       "    <tr style=\"text-align: right;\">\n",
       "      <th></th>\n",
       "      <th>device_id</th>\n",
       "      <th>gender</th>\n",
       "      <th>group</th>\n",
       "      <th>age_26</th>\n",
       "      <th>age_27</th>\n",
       "      <th>age_29</th>\n",
       "      <th>age_28</th>\n",
       "      <th>age_25</th>\n",
       "      <th>age_30</th>\n",
       "      <th>age_24</th>\n",
       "      <th>...</th>\n",
       "      <th>age_6</th>\n",
       "      <th>age_85</th>\n",
       "      <th>age_89</th>\n",
       "      <th>age_87</th>\n",
       "      <th>age_84</th>\n",
       "      <th>age_82</th>\n",
       "      <th>age_90</th>\n",
       "      <th>age_96</th>\n",
       "      <th>age_1</th>\n",
       "      <th>age_94</th>\n",
       "    </tr>\n",
       "  </thead>\n",
       "  <tbody>\n",
       "    <tr>\n",
       "      <th>0</th>\n",
       "      <td>-8076087639492063270</td>\n",
       "      <td>1</td>\n",
       "      <td>M32-38</td>\n",
       "      <td>0</td>\n",
       "      <td>0</td>\n",
       "      <td>0</td>\n",
       "      <td>0</td>\n",
       "      <td>0</td>\n",
       "      <td>0</td>\n",
       "      <td>0</td>\n",
       "      <td>...</td>\n",
       "      <td>0</td>\n",
       "      <td>0</td>\n",
       "      <td>0</td>\n",
       "      <td>0</td>\n",
       "      <td>0</td>\n",
       "      <td>0</td>\n",
       "      <td>0</td>\n",
       "      <td>0</td>\n",
       "      <td>0</td>\n",
       "      <td>0</td>\n",
       "    </tr>\n",
       "    <tr>\n",
       "      <th>1</th>\n",
       "      <td>-2897161552818060146</td>\n",
       "      <td>1</td>\n",
       "      <td>M32-38</td>\n",
       "      <td>0</td>\n",
       "      <td>0</td>\n",
       "      <td>0</td>\n",
       "      <td>0</td>\n",
       "      <td>0</td>\n",
       "      <td>0</td>\n",
       "      <td>0</td>\n",
       "      <td>...</td>\n",
       "      <td>0</td>\n",
       "      <td>0</td>\n",
       "      <td>0</td>\n",
       "      <td>0</td>\n",
       "      <td>0</td>\n",
       "      <td>0</td>\n",
       "      <td>0</td>\n",
       "      <td>0</td>\n",
       "      <td>0</td>\n",
       "      <td>0</td>\n",
       "    </tr>\n",
       "  </tbody>\n",
       "</table>\n",
       "<p>2 rows × 88 columns</p>\n",
       "</div>"
      ],
      "text/plain": [
       "             device_id  gender   group  age_26  age_27  age_29  age_28  \\\n",
       "0 -8076087639492063270       1  M32-38       0       0       0       0   \n",
       "1 -2897161552818060146       1  M32-38       0       0       0       0   \n",
       "\n",
       "   age_25  age_30  age_24   ...    age_6  age_85  age_89  age_87  age_84  \\\n",
       "0       0       0       0   ...        0       0       0       0       0   \n",
       "1       0       0       0   ...        0       0       0       0       0   \n",
       "\n",
       "   age_82  age_90  age_96  age_1  age_94  \n",
       "0       0       0       0      0       0  \n",
       "1       0       0       0      0       0  \n",
       "\n",
       "[2 rows x 88 columns]"
      ]
     },
     "execution_count": 9,
     "metadata": {},
     "output_type": "execute_result"
    }
   ],
   "source": [
    "# Making Bianry Features for age\n",
    "from sklearn import preprocessing\n",
    "lb = preprocessing.LabelBinarizer()\n",
    "temp = lb.fit_transform(gender_age_train[['age']])\n",
    "temp = pd.DataFrame(temp, columns = [('age'+\"_\"+str(i)) for i in gender_age_train['age'].value_counts().index])\n",
    "gender_age_train = pd.concat([gender_age_train, temp], axis= 1)\n",
    "gender_age_train = gender_age_train.drop('age', axis = 1) # droppping age column now\n",
    "\n",
    "print('______________________________________________---')\n",
    "gender_age_train.head(2)"
   ]
  },
  {
   "cell_type": "code",
   "execution_count": 10,
   "metadata": {
    "collapsed": false
   },
   "outputs": [
    {
     "name": "stdout",
     "output_type": "stream",
     "text": [
      "______________________________________________---\n"
     ]
    },
    {
     "data": {
      "text/html": [
       "<div>\n",
       "<table border=\"1\" class=\"dataframe\">\n",
       "  <thead>\n",
       "    <tr style=\"text-align: right;\">\n",
       "      <th></th>\n",
       "      <th>device_id</th>\n",
       "      <th>gender</th>\n",
       "      <th>age_26</th>\n",
       "      <th>age_27</th>\n",
       "      <th>age_29</th>\n",
       "      <th>age_28</th>\n",
       "      <th>age_25</th>\n",
       "      <th>age_30</th>\n",
       "      <th>age_24</th>\n",
       "      <th>age_23</th>\n",
       "      <th>...</th>\n",
       "      <th>group_M39+</th>\n",
       "      <th>group_M22-</th>\n",
       "      <th>group_M29-31</th>\n",
       "      <th>group_F33-42</th>\n",
       "      <th>group_M27-28</th>\n",
       "      <th>group_F23-</th>\n",
       "      <th>group_F29-32</th>\n",
       "      <th>group_F43+</th>\n",
       "      <th>group_F24-26</th>\n",
       "      <th>group_F27-28</th>\n",
       "    </tr>\n",
       "  </thead>\n",
       "  <tbody>\n",
       "    <tr>\n",
       "      <th>0</th>\n",
       "      <td>-8076087639492063270</td>\n",
       "      <td>1</td>\n",
       "      <td>0</td>\n",
       "      <td>0</td>\n",
       "      <td>0</td>\n",
       "      <td>0</td>\n",
       "      <td>0</td>\n",
       "      <td>0</td>\n",
       "      <td>0</td>\n",
       "      <td>0</td>\n",
       "      <td>...</td>\n",
       "      <td>0</td>\n",
       "      <td>0</td>\n",
       "      <td>0</td>\n",
       "      <td>0</td>\n",
       "      <td>0</td>\n",
       "      <td>0</td>\n",
       "      <td>0</td>\n",
       "      <td>0</td>\n",
       "      <td>1</td>\n",
       "      <td>0</td>\n",
       "    </tr>\n",
       "    <tr>\n",
       "      <th>1</th>\n",
       "      <td>-2897161552818060146</td>\n",
       "      <td>1</td>\n",
       "      <td>0</td>\n",
       "      <td>0</td>\n",
       "      <td>0</td>\n",
       "      <td>0</td>\n",
       "      <td>0</td>\n",
       "      <td>0</td>\n",
       "      <td>0</td>\n",
       "      <td>0</td>\n",
       "      <td>...</td>\n",
       "      <td>0</td>\n",
       "      <td>0</td>\n",
       "      <td>0</td>\n",
       "      <td>0</td>\n",
       "      <td>0</td>\n",
       "      <td>0</td>\n",
       "      <td>0</td>\n",
       "      <td>0</td>\n",
       "      <td>1</td>\n",
       "      <td>0</td>\n",
       "    </tr>\n",
       "  </tbody>\n",
       "</table>\n",
       "<p>2 rows × 99 columns</p>\n",
       "</div>"
      ],
      "text/plain": [
       "             device_id  gender  age_26  age_27  age_29  age_28  age_25  \\\n",
       "0 -8076087639492063270       1       0       0       0       0       0   \n",
       "1 -2897161552818060146       1       0       0       0       0       0   \n",
       "\n",
       "   age_30  age_24  age_23      ...       group_M39+  group_M22-  group_M29-31  \\\n",
       "0       0       0       0      ...                0           0             0   \n",
       "1       0       0       0      ...                0           0             0   \n",
       "\n",
       "   group_F33-42  group_M27-28  group_F23-  group_F29-32  group_F43+  \\\n",
       "0             0             0           0             0           0   \n",
       "1             0             0           0             0           0   \n",
       "\n",
       "   group_F24-26  group_F27-28  \n",
       "0             1             0  \n",
       "1             1             0  \n",
       "\n",
       "[2 rows x 99 columns]"
      ]
     },
     "execution_count": 10,
     "metadata": {},
     "output_type": "execute_result"
    },
    {
     "data": {
      "text/plain": [
       "(74645, 99)"
      ]
     },
     "execution_count": 10,
     "metadata": {},
     "output_type": "execute_result"
    }
   ],
   "source": [
    "# Making Bianry Features for group\n",
    "from sklearn import preprocessing\n",
    "lb = preprocessing.LabelBinarizer()\n",
    "temp = lb.fit_transform(gender_age_train[['group']]) # we need to make it a panda dataframe\n",
    "temp = pd.DataFrame(temp, columns = [('group'+\"_\"+str(i)) for i in gender_age_train['group'].value_counts().index])\n",
    "gender_age_train = pd.concat([gender_age_train, temp], axis= 1) # concatinating with earlier one\n",
    "gender_age_train = gender_age_train.drop('group', axis = 1)\n",
    "print('______________________________________________---')\n",
    "gender_age_train.head(2)\n",
    "gender_age_train.shape\n"
   ]
  },
  {
   "cell_type": "code",
   "execution_count": 11,
   "metadata": {
    "collapsed": false
   },
   "outputs": [
    {
     "data": {
      "text/html": [
       "<div>\n",
       "<table border=\"1\" class=\"dataframe\">\n",
       "  <thead>\n",
       "    <tr style=\"text-align: right;\">\n",
       "      <th></th>\n",
       "      <th>device_id</th>\n",
       "      <th>phone_brand</th>\n",
       "      <th>device_model</th>\n",
       "    </tr>\n",
       "  </thead>\n",
       "  <tbody>\n",
       "    <tr>\n",
       "      <th>0</th>\n",
       "      <td>-8890648629457979026</td>\n",
       "      <td>小米</td>\n",
       "      <td>红米</td>\n",
       "    </tr>\n",
       "    <tr>\n",
       "      <th>1</th>\n",
       "      <td>1277779817574759137</td>\n",
       "      <td>小米</td>\n",
       "      <td>MI 2</td>\n",
       "    </tr>\n",
       "    <tr>\n",
       "      <th>2</th>\n",
       "      <td>5137427614288105724</td>\n",
       "      <td>三星</td>\n",
       "      <td>Galaxy S4</td>\n",
       "    </tr>\n",
       "    <tr>\n",
       "      <th>3</th>\n",
       "      <td>3669464369358936369</td>\n",
       "      <td>SUGAR</td>\n",
       "      <td>时尚手机</td>\n",
       "    </tr>\n",
       "    <tr>\n",
       "      <th>4</th>\n",
       "      <td>-5019277647504317457</td>\n",
       "      <td>三星</td>\n",
       "      <td>Galaxy Note 2</td>\n",
       "    </tr>\n",
       "  </tbody>\n",
       "</table>\n",
       "</div>"
      ],
      "text/plain": [
       "             device_id phone_brand   device_model\n",
       "0 -8890648629457979026          小米             红米\n",
       "1  1277779817574759137          小米           MI 2\n",
       "2  5137427614288105724          三星      Galaxy S4\n",
       "3  3669464369358936369       SUGAR           时尚手机\n",
       "4 -5019277647504317457          三星  Galaxy Note 2"
      ]
     },
     "execution_count": 11,
     "metadata": {},
     "output_type": "execute_result"
    },
    {
     "name": "stdout",
     "output_type": "stream",
     "text": [
      "Total number of device id:187245\n",
      "Number of Unique DeviceId:186716\n"
     ]
    }
   ],
   "source": [
    "phone.head()\n",
    "print('Total number of device id:{}'.format(len(phone.device_id)))\n",
    "print('Number of Unique DeviceId:{}'.format(len(np.unique(phone.device_id))))"
   ]
  },
  {
   "cell_type": "markdown",
   "metadata": {},
   "source": [
    "This says that all the devices in phone is not unique; we need to drop the duplicates\n",
    "- we can do this by again reading the table with drop_dublicates arguments \n",
    "- or just filter out the unique row names\""
   ]
  },
  {
   "cell_type": "code",
   "execution_count": 12,
   "metadata": {
    "collapsed": false
   },
   "outputs": [
    {
     "name": "stdout",
     "output_type": "stream",
     "text": [
      "Total number of device id:186716\n",
      "Number of Unique DeviceId:186716\n"
     ]
    }
   ],
   "source": [
    "# let's use pandas.DataFrame.drop_duplicates() to drop the duplicate; by default it keeps the first occurence of everything\n",
    "phone = phone.drop_duplicates(subset = 'device_id')\n",
    "print('Total number of device id:{}'.format(len(phone.device_id)))\n",
    "print('Number of Unique DeviceId:{}'.format(len(np.unique(phone.device_id))))"
   ]
  },
  {
   "cell_type": "code",
   "execution_count": 13,
   "metadata": {
    "collapsed": false
   },
   "outputs": [
    {
     "name": "stdout",
     "output_type": "stream",
     "text": [
      "Total no of Unique phone_brand 131\n",
      "Total no of Unique Device_Model 1599\n"
     ]
    }
   ],
   "source": [
    "print('Total no of Unique phone_brand {}'.format(len(np.unique(phone.phone_brand))))\n",
    "print('Total no of Unique Device_Model {}'.format(len(np.unique(phone.device_model))))"
   ]
  },
  {
   "cell_type": "markdown",
   "metadata": {},
   "source": [
    "** One thing we can do is to make features out of all of the phone_brand as well as Device_model. But, we will end up with a lot of features. Anyways let's do that. Then, we will try to drop some of these features.**"
   ]
  },
  {
   "cell_type": "code",
   "execution_count": 14,
   "metadata": {
    "collapsed": false
   },
   "outputs": [
    {
     "name": "stdout",
     "output_type": "stream",
     "text": [
      "______________________________________________---\n"
     ]
    },
    {
     "data": {
      "text/html": [
       "<div>\n",
       "<table border=\"1\" class=\"dataframe\">\n",
       "  <thead>\n",
       "    <tr style=\"text-align: right;\">\n",
       "      <th></th>\n",
       "      <th>device_id</th>\n",
       "      <th>device_model</th>\n",
       "      <th>phone_brand_小米</th>\n",
       "      <th>phone_brand_三星</th>\n",
       "      <th>phone_brand_华为</th>\n",
       "      <th>phone_brand_vivo</th>\n",
       "      <th>phone_brand_OPPO</th>\n",
       "      <th>phone_brand_魅族</th>\n",
       "      <th>phone_brand_酷派</th>\n",
       "      <th>phone_brand_联想</th>\n",
       "      <th>...</th>\n",
       "      <th>phone_brand_帷幄</th>\n",
       "      <th>phone_brand_碟米</th>\n",
       "      <th>phone_brand_宏碁</th>\n",
       "      <th>phone_brand_嘉源</th>\n",
       "      <th>phone_brand_ZOYE</th>\n",
       "      <th>phone_brand_E人E本</th>\n",
       "      <th>phone_brand_瑞高</th>\n",
       "      <th>phone_brand_欧乐酷</th>\n",
       "      <th>phone_brand_极米</th>\n",
       "      <th>phone_brand_西门子</th>\n",
       "    </tr>\n",
       "  </thead>\n",
       "  <tbody>\n",
       "    <tr>\n",
       "      <th>0</th>\n",
       "      <td>-8.890649e+18</td>\n",
       "      <td>红米</td>\n",
       "      <td>0.0</td>\n",
       "      <td>0.0</td>\n",
       "      <td>0.0</td>\n",
       "      <td>0.0</td>\n",
       "      <td>0.0</td>\n",
       "      <td>0.0</td>\n",
       "      <td>0.0</td>\n",
       "      <td>0.0</td>\n",
       "      <td>...</td>\n",
       "      <td>0.0</td>\n",
       "      <td>0.0</td>\n",
       "      <td>0.0</td>\n",
       "      <td>0.0</td>\n",
       "      <td>0.0</td>\n",
       "      <td>0.0</td>\n",
       "      <td>0.0</td>\n",
       "      <td>0.0</td>\n",
       "      <td>0.0</td>\n",
       "      <td>0.0</td>\n",
       "    </tr>\n",
       "    <tr>\n",
       "      <th>1</th>\n",
       "      <td>1.277780e+18</td>\n",
       "      <td>MI 2</td>\n",
       "      <td>0.0</td>\n",
       "      <td>0.0</td>\n",
       "      <td>0.0</td>\n",
       "      <td>0.0</td>\n",
       "      <td>0.0</td>\n",
       "      <td>0.0</td>\n",
       "      <td>0.0</td>\n",
       "      <td>0.0</td>\n",
       "      <td>...</td>\n",
       "      <td>0.0</td>\n",
       "      <td>0.0</td>\n",
       "      <td>0.0</td>\n",
       "      <td>0.0</td>\n",
       "      <td>0.0</td>\n",
       "      <td>0.0</td>\n",
       "      <td>0.0</td>\n",
       "      <td>0.0</td>\n",
       "      <td>0.0</td>\n",
       "      <td>0.0</td>\n",
       "    </tr>\n",
       "  </tbody>\n",
       "</table>\n",
       "<p>2 rows × 133 columns</p>\n",
       "</div>"
      ],
      "text/plain": [
       "      device_id device_model  phone_brand_小米  phone_brand_三星  phone_brand_华为  \\\n",
       "0 -8.890649e+18           红米             0.0             0.0             0.0   \n",
       "1  1.277780e+18         MI 2             0.0             0.0             0.0   \n",
       "\n",
       "   phone_brand_vivo  phone_brand_OPPO  phone_brand_魅族  phone_brand_酷派  \\\n",
       "0               0.0               0.0             0.0             0.0   \n",
       "1               0.0               0.0             0.0             0.0   \n",
       "\n",
       "   phone_brand_联想       ...         phone_brand_帷幄  phone_brand_碟米  \\\n",
       "0             0.0       ...                    0.0             0.0   \n",
       "1             0.0       ...                    0.0             0.0   \n",
       "\n",
       "   phone_brand_宏碁  phone_brand_嘉源  phone_brand_ZOYE  phone_brand_E人E本  \\\n",
       "0             0.0             0.0               0.0               0.0   \n",
       "1             0.0             0.0               0.0               0.0   \n",
       "\n",
       "   phone_brand_瑞高  phone_brand_欧乐酷  phone_brand_极米  phone_brand_西门子  \n",
       "0             0.0              0.0             0.0              0.0  \n",
       "1             0.0              0.0             0.0              0.0  \n",
       "\n",
       "[2 rows x 133 columns]"
      ]
     },
     "execution_count": 14,
     "metadata": {},
     "output_type": "execute_result"
    },
    {
     "data": {
      "text/plain": [
       "(187219, 133)"
      ]
     },
     "execution_count": 14,
     "metadata": {},
     "output_type": "execute_result"
    }
   ],
   "source": [
    "# Making Bianry Features for phone_brand\n",
    "from sklearn import preprocessing\n",
    "lb = preprocessing.LabelBinarizer()\n",
    "temp = lb.fit_transform(phone[['phone_brand']]) # we need to make it a panda dataframe\n",
    "temp = pd.DataFrame(temp, columns = [('phone_brand'+\"_\"+str(i)) for i in phone['phone_brand'].value_counts().index])\n",
    "phone = pd.concat([phone,temp], axis= 1) # concatinating with earlier one\n",
    "phone = phone.drop('phone_brand', axis = 1)\n",
    "print('______________________________________________---')\n",
    "phone.head(2)\n",
    "phone.shape\n",
    "\n",
    "#Anotehr way of dropping the dublicates\n",
    "# quick check to find duplicate values\n",
    "# probably we need to see if there is duplicated values, that hurt our model\n",
    "# 529 devices have duplicate values = give a device id, it can belong to only one brand\n",
    "#len(pd.read_csv('phone_brand_device_model.csv').set_index('device_id').index.get_duplicates())\n"
   ]
  },
  {
   "cell_type": "markdown",
   "metadata": {},
   "source": [
    "** I think, I found the reason for the error I was getting. \n",
    "lb.fit_transform(phone[['device_model']].astype(str))\n",
    ".astype(str) will solve the problem"
   ]
  },
  {
   "cell_type": "code",
   "execution_count": 15,
   "metadata": {
    "collapsed": true
   },
   "outputs": [],
   "source": [
    "# The table have two same device id with different Model no\n",
    "# whenever slice the device_model from phone make it str using; .astype(str)"
   ]
  },
  {
   "cell_type": "code",
   "execution_count": 16,
   "metadata": {
    "collapsed": false
   },
   "outputs": [
    {
     "data": {
      "text/plain": [
       "187218"
      ]
     },
     "execution_count": 16,
     "metadata": {},
     "output_type": "execute_result"
    },
    {
     "data": {
      "text/plain": [
       "1600"
      ]
     },
     "execution_count": 16,
     "metadata": {},
     "output_type": "execute_result"
    }
   ],
   "source": [
    "len(np.unique(phone.device_id))\n",
    "len(np.unique(phone.device_model.astype(str)))"
   ]
  },
  {
   "cell_type": "code",
   "execution_count": 17,
   "metadata": {
    "collapsed": false
   },
   "outputs": [
    {
     "name": "stdout",
     "output_type": "stream",
     "text": [
      "Now we have a sparse matrix with 1600 columns for 1600 brands\n",
      "______________________________________________---\n"
     ]
    },
    {
     "data": {
      "text/html": [
       "<div>\n",
       "<table border=\"1\" class=\"dataframe\">\n",
       "  <thead>\n",
       "    <tr style=\"text-align: right;\">\n",
       "      <th></th>\n",
       "      <th>device_id</th>\n",
       "      <th>phone_brand_小米</th>\n",
       "      <th>phone_brand_三星</th>\n",
       "      <th>phone_brand_华为</th>\n",
       "      <th>phone_brand_vivo</th>\n",
       "      <th>phone_brand_OPPO</th>\n",
       "      <th>phone_brand_魅族</th>\n",
       "      <th>phone_brand_酷派</th>\n",
       "      <th>phone_brand_联想</th>\n",
       "      <th>phone_brand_金立</th>\n",
       "      <th>...</th>\n",
       "      <th>device_model_X9999</th>\n",
       "      <th>device_model_TALK 7X八核</th>\n",
       "      <th>device_model_S970</th>\n",
       "      <th>device_model_P589L</th>\n",
       "      <th>device_model_锋尚mini</th>\n",
       "      <th>device_model_L81</th>\n",
       "      <th>device_model_MediaPad 10 FHD</th>\n",
       "      <th>device_model_I6</th>\n",
       "      <th>device_model_Xperia M2</th>\n",
       "      <th>device_model_Galaxy Core Plus</th>\n",
       "    </tr>\n",
       "  </thead>\n",
       "  <tbody>\n",
       "    <tr>\n",
       "      <th>0</th>\n",
       "      <td>-8.890649e+18</td>\n",
       "      <td>0.0</td>\n",
       "      <td>0.0</td>\n",
       "      <td>0.0</td>\n",
       "      <td>0.0</td>\n",
       "      <td>0.0</td>\n",
       "      <td>0.0</td>\n",
       "      <td>0.0</td>\n",
       "      <td>0.0</td>\n",
       "      <td>0.0</td>\n",
       "      <td>...</td>\n",
       "      <td>0.0</td>\n",
       "      <td>0.0</td>\n",
       "      <td>0.0</td>\n",
       "      <td>0.0</td>\n",
       "      <td>0.0</td>\n",
       "      <td>0.0</td>\n",
       "      <td>0.0</td>\n",
       "      <td>0.0</td>\n",
       "      <td>0.0</td>\n",
       "      <td>0.0</td>\n",
       "    </tr>\n",
       "    <tr>\n",
       "      <th>1</th>\n",
       "      <td>1.277780e+18</td>\n",
       "      <td>0.0</td>\n",
       "      <td>0.0</td>\n",
       "      <td>0.0</td>\n",
       "      <td>0.0</td>\n",
       "      <td>0.0</td>\n",
       "      <td>0.0</td>\n",
       "      <td>0.0</td>\n",
       "      <td>0.0</td>\n",
       "      <td>0.0</td>\n",
       "      <td>...</td>\n",
       "      <td>0.0</td>\n",
       "      <td>0.0</td>\n",
       "      <td>0.0</td>\n",
       "      <td>0.0</td>\n",
       "      <td>0.0</td>\n",
       "      <td>0.0</td>\n",
       "      <td>0.0</td>\n",
       "      <td>0.0</td>\n",
       "      <td>0.0</td>\n",
       "      <td>0.0</td>\n",
       "    </tr>\n",
       "  </tbody>\n",
       "</table>\n",
       "<p>2 rows × 1732 columns</p>\n",
       "</div>"
      ],
      "text/plain": [
       "      device_id  phone_brand_小米  phone_brand_三星  phone_brand_华为  \\\n",
       "0 -8.890649e+18             0.0             0.0             0.0   \n",
       "1  1.277780e+18             0.0             0.0             0.0   \n",
       "\n",
       "   phone_brand_vivo  phone_brand_OPPO  phone_brand_魅族  phone_brand_酷派  \\\n",
       "0               0.0               0.0             0.0             0.0   \n",
       "1               0.0               0.0             0.0             0.0   \n",
       "\n",
       "   phone_brand_联想  phone_brand_金立              ...                \\\n",
       "0             0.0             0.0              ...                 \n",
       "1             0.0             0.0              ...                 \n",
       "\n",
       "   device_model_X9999  device_model_TALK 7X八核  device_model_S970  \\\n",
       "0                 0.0                     0.0                0.0   \n",
       "1                 0.0                     0.0                0.0   \n",
       "\n",
       "   device_model_P589L  device_model_锋尚mini  device_model_L81  \\\n",
       "0                 0.0                  0.0               0.0   \n",
       "1                 0.0                  0.0               0.0   \n",
       "\n",
       "   device_model_MediaPad 10 FHD  device_model_I6  device_model_Xperia M2  \\\n",
       "0                           0.0              0.0                     0.0   \n",
       "1                           0.0              0.0                     0.0   \n",
       "\n",
       "   device_model_Galaxy Core Plus  \n",
       "0                            0.0  \n",
       "1                            0.0  \n",
       "\n",
       "[2 rows x 1732 columns]"
      ]
     },
     "execution_count": 17,
     "metadata": {},
     "output_type": "execute_result"
    }
   ],
   "source": [
    "# Making Bianry Features for device_model\n",
    "\n",
    "from sklearn import preprocessing\n",
    "lb = preprocessing.LabelBinarizer()\n",
    "temp = lb.fit(phone.device_model.astype(str))\n",
    "#temp\n",
    "temp = lb.transform(phone.device_model.astype(str)) # we need to make it a panda dataframe\n",
    "#temp.shape\n",
    "#len(np.unique(phone.device_model.astype(str)))\n",
    "print('Now we have a sparse matrix with 1600 columns for 1600 brands')\n",
    "temp = pd.DataFrame(temp, columns = [('device_model'+\"_\"+str(i)) for i in phone['device_model'].astype(str).value_counts().index])\n",
    "\n",
    "# The table have two same device id with different Model no\n",
    "phone = pd.concat([phone,temp], axis= 1) # concatinating with earlier one\n",
    "phone = phone.drop('device_model', axis = 1)\n",
    "print('______________________________________________---')\n",
    "phone.head(2)\n",
    "# temp.shape\n"
   ]
  },
  {
   "cell_type": "markdown",
   "metadata": {},
   "source": [
    "** Now. we have phone data frame with all the device and model as a feature **"
   ]
  },
  {
   "cell_type": "code",
   "execution_count": null,
   "metadata": {
    "collapsed": false
   },
   "outputs": [],
   "source": []
  },
  {
   "cell_type": "code",
   "execution_count": null,
   "metadata": {
    "collapsed": false
   },
   "outputs": [],
   "source": []
  },
  {
   "cell_type": "markdown",
   "metadata": {},
   "source": [
    "** temp1 = lb.fit_transform((phone[['device_model']])) **\n",
    "This problem was coming with sparses amtrix too; use .astyoe(str) to get rid of theis porb\n",
    "** Seems like labelBinarizer has some problem with it, I will be using sparse matrix on this and from now on as a standard practice; it works on python2 but not on python3**\n",
    "\n"
   ]
  },
  {
   "cell_type": "markdown",
   "metadata": {},
   "source": [
    "### I was thinging to use  sparse matrix on device model to create features for each device, but not any more\n",
    "We are going to build Compressed Sparse row matrix, so build row index for train and test. \n",
    "Read about it here, http://www.scipy-lectures.org/advanced/scipy_sparse/csr_matrix.html \n",
    "Basically we have lots of feature possible, nxm matrix has fewer ones and lots of zeros. \n",
    "Save space and do update faster by compressed sparse matrix which can be row or column."
   ]
  },
  {
   "cell_type": "code",
   "execution_count": 18,
   "metadata": {
    "collapsed": false
   },
   "outputs": [
    {
     "data": {
      "text/html": [
       "<div>\n",
       "<table border=\"1\" class=\"dataframe\">\n",
       "  <thead>\n",
       "    <tr style=\"text-align: right;\">\n",
       "      <th></th>\n",
       "      <th>event_id</th>\n",
       "      <th>device_id</th>\n",
       "      <th>timestamp</th>\n",
       "      <th>longitude</th>\n",
       "      <th>latitude</th>\n",
       "    </tr>\n",
       "  </thead>\n",
       "  <tbody>\n",
       "    <tr>\n",
       "      <th>0</th>\n",
       "      <td>1</td>\n",
       "      <td>29182687948017175</td>\n",
       "      <td>2016-05-01 00:55:25</td>\n",
       "      <td>121.38</td>\n",
       "      <td>31.24</td>\n",
       "    </tr>\n",
       "    <tr>\n",
       "      <th>1</th>\n",
       "      <td>2</td>\n",
       "      <td>-6401643145415154744</td>\n",
       "      <td>2016-05-01 00:54:12</td>\n",
       "      <td>103.65</td>\n",
       "      <td>30.97</td>\n",
       "    </tr>\n",
       "    <tr>\n",
       "      <th>2</th>\n",
       "      <td>3</td>\n",
       "      <td>-4833982096941402721</td>\n",
       "      <td>2016-05-01 00:08:05</td>\n",
       "      <td>106.60</td>\n",
       "      <td>29.70</td>\n",
       "    </tr>\n",
       "    <tr>\n",
       "      <th>3</th>\n",
       "      <td>4</td>\n",
       "      <td>-6815121365017318426</td>\n",
       "      <td>2016-05-01 00:06:40</td>\n",
       "      <td>104.27</td>\n",
       "      <td>23.28</td>\n",
       "    </tr>\n",
       "    <tr>\n",
       "      <th>4</th>\n",
       "      <td>5</td>\n",
       "      <td>-5373797595892518570</td>\n",
       "      <td>2016-05-01 00:07:18</td>\n",
       "      <td>115.88</td>\n",
       "      <td>28.66</td>\n",
       "    </tr>\n",
       "  </tbody>\n",
       "</table>\n",
       "</div>"
      ],
      "text/plain": [
       "   event_id            device_id            timestamp  longitude  latitude\n",
       "0         1    29182687948017175  2016-05-01 00:55:25     121.38     31.24\n",
       "1         2 -6401643145415154744  2016-05-01 00:54:12     103.65     30.97\n",
       "2         3 -4833982096941402721  2016-05-01 00:08:05     106.60     29.70\n",
       "3         4 -6815121365017318426  2016-05-01 00:06:40     104.27     23.28\n",
       "4         5 -5373797595892518570  2016-05-01 00:07:18     115.88     28.66"
      ]
     },
     "execution_count": 18,
     "metadata": {},
     "output_type": "execute_result"
    },
    {
     "name": "stdout",
     "output_type": "stream",
     "text": [
      "Shape of event table:(3252950, 5)\n",
      "Length of Event DataFrame: 3252950\n",
      "Number of Unique Device id in Event table: 3252950\n",
      "Length of Event DataFrame having all the device id as in phone: 3160417\n",
      "Length of Event DataFrame having all the device id as in GATrain: 1215595\n",
      "Length of Event DataFrame having all the device id as in GATest: 1944822\n"
     ]
    }
   ],
   "source": [
    "events = pd.read_csv(os.path.join(directory, 'events.csv'))\n",
    "events.head()\n",
    "\n",
    "print(\"Shape of event table:{}\".format(events.shape))\n",
    "print(\"Length of Event DataFrame: {}\".format(events.shape[0]))\n",
    "print(\"Number of Unique Device id in Event table: {}\".format(events.device_id.shape[0]))\n",
    "# Time to  reduce events table\n",
    "events_phone = events[events['device_id'].isin(phone.device_id)]\n",
    "print(\"Length of Event DataFrame having all the device id as in phone: {}\".format(events_phone.shape[0]))\n",
    "\n",
    "events_gatrain = events[events['device_id'].isin(gender_age_train.device_id)]\n",
    "print(\"Length of Event DataFrame having all the device id as in GATrain: {}\".format(events_gatrain.shape[0]))\n",
    "\n",
    "events_gatest = events[events['device_id'].isin(gender_age_test.device_id)]\n",
    "print(\"Length of Event DataFrame having all the device id as in GATest: {}\".format(events_gatest.shape[0]))\n",
    "\n",
    "\n",
    "# so we have some device id for which events are missing !!!\n",
    "# may be we need to model them using separate models ??\n"
   ]
  },
  {
   "cell_type": "markdown",
   "metadata": {},
   "source": [
    "** Here is the first tricky part of this problem\n",
    "    - merge[train-phone]based on device id in train\n",
    "    - again merge new train [new_train-events] based on device id in new_train "
   ]
  },
  {
   "cell_type": "markdown",
   "metadata": {},
   "source": [
    "**  Here is the first tricky part of this problem\n",
    "    - merge[test-phone]based on device id in test\n",
    "    - again merge new test [test-events] based on device id in new_test "
   ]
  },
  {
   "cell_type": "code",
   "execution_count": 19,
   "metadata": {
    "collapsed": false
   },
   "outputs": [],
   "source": [
    "#train = pd.merge(gender_age_train, phone, how = 'left', on = 'device_id')\n"
   ]
  },
  {
   "cell_type": "code",
   "execution_count": 20,
   "metadata": {
    "collapsed": false
   },
   "outputs": [],
   "source": [
    "# train.shape\n",
    "# gender_age_train.shape\n"
   ]
  },
  {
   "cell_type": "code",
   "execution_count": 21,
   "metadata": {
    "collapsed": false
   },
   "outputs": [],
   "source": [
    "# train = pd.merge(train, events, how = 'left', on = 'device_id')\n",
    "# train.shape\n"
   ]
  },
  {
   "cell_type": "code",
   "execution_count": 22,
   "metadata": {
    "collapsed": false
   },
   "outputs": [],
   "source": [
    "# len(np.unique(train.event_id))"
   ]
  },
  {
   "cell_type": "markdown",
   "metadata": {},
   "source": [
    "** But first let's work on events table and merge it with app_events app_labels and label_cat table **"
   ]
  },
  {
   "cell_type": "code",
   "execution_count": 23,
   "metadata": {
    "collapsed": false
   },
   "outputs": [
    {
     "data": {
      "text/html": [
       "<div>\n",
       "<table border=\"1\" class=\"dataframe\">\n",
       "  <thead>\n",
       "    <tr style=\"text-align: right;\">\n",
       "      <th></th>\n",
       "      <th>event_id</th>\n",
       "      <th>device_id</th>\n",
       "      <th>timestamp</th>\n",
       "      <th>longitude</th>\n",
       "      <th>latitude</th>\n",
       "    </tr>\n",
       "  </thead>\n",
       "  <tbody>\n",
       "    <tr>\n",
       "      <th>0</th>\n",
       "      <td>1</td>\n",
       "      <td>29182687948017175</td>\n",
       "      <td>2016-05-01 00:55:25</td>\n",
       "      <td>121.38</td>\n",
       "      <td>31.24</td>\n",
       "    </tr>\n",
       "  </tbody>\n",
       "</table>\n",
       "</div>"
      ],
      "text/plain": [
       "   event_id          device_id            timestamp  longitude  latitude\n",
       "0         1  29182687948017175  2016-05-01 00:55:25     121.38     31.24"
      ]
     },
     "execution_count": 23,
     "metadata": {},
     "output_type": "execute_result"
    },
    {
     "data": {
      "text/html": [
       "<div>\n",
       "<table border=\"1\" class=\"dataframe\">\n",
       "  <thead>\n",
       "    <tr style=\"text-align: right;\">\n",
       "      <th></th>\n",
       "      <th>event_id</th>\n",
       "      <th>app_id</th>\n",
       "      <th>is_installed</th>\n",
       "      <th>is_active</th>\n",
       "    </tr>\n",
       "  </thead>\n",
       "  <tbody>\n",
       "    <tr>\n",
       "      <th>0</th>\n",
       "      <td>2</td>\n",
       "      <td>5927333115845830913</td>\n",
       "      <td>1</td>\n",
       "      <td>1</td>\n",
       "    </tr>\n",
       "  </tbody>\n",
       "</table>\n",
       "</div>"
      ],
      "text/plain": [
       "   event_id               app_id  is_installed  is_active\n",
       "0         2  5927333115845830913             1          1"
      ]
     },
     "execution_count": 23,
     "metadata": {},
     "output_type": "execute_result"
    },
    {
     "data": {
      "text/html": [
       "<div>\n",
       "<table border=\"1\" class=\"dataframe\">\n",
       "  <thead>\n",
       "    <tr style=\"text-align: right;\">\n",
       "      <th></th>\n",
       "      <th>app_id</th>\n",
       "      <th>label_id</th>\n",
       "    </tr>\n",
       "  </thead>\n",
       "  <tbody>\n",
       "    <tr>\n",
       "      <th>0</th>\n",
       "      <td>7324884708820027918</td>\n",
       "      <td>251</td>\n",
       "    </tr>\n",
       "  </tbody>\n",
       "</table>\n",
       "</div>"
      ],
      "text/plain": [
       "                app_id  label_id\n",
       "0  7324884708820027918       251"
      ]
     },
     "execution_count": 23,
     "metadata": {},
     "output_type": "execute_result"
    },
    {
     "data": {
      "text/html": [
       "<div>\n",
       "<table border=\"1\" class=\"dataframe\">\n",
       "  <thead>\n",
       "    <tr style=\"text-align: right;\">\n",
       "      <th></th>\n",
       "      <th>label_id</th>\n",
       "      <th>category</th>\n",
       "    </tr>\n",
       "  </thead>\n",
       "  <tbody>\n",
       "    <tr>\n",
       "      <th>0</th>\n",
       "      <td>1</td>\n",
       "      <td>NaN</td>\n",
       "    </tr>\n",
       "  </tbody>\n",
       "</table>\n",
       "</div>"
      ],
      "text/plain": [
       "   label_id category\n",
       "0         1      NaN"
      ]
     },
     "execution_count": 23,
     "metadata": {},
     "output_type": "execute_result"
    }
   ],
   "source": [
    "events.head(1)\n",
    "app_events.head(1)\n",
    "app_labels.head(1)\n",
    "label_cat.head(1)\n"
   ]
  },
  {
   "cell_type": "code",
   "execution_count": 24,
   "metadata": {
    "collapsed": false
   },
   "outputs": [
    {
     "data": {
      "text/plain": [
       "3252950"
      ]
     },
     "execution_count": 24,
     "metadata": {},
     "output_type": "execute_result"
    },
    {
     "data": {
      "text/plain": [
       "1488096"
      ]
     },
     "execution_count": 24,
     "metadata": {},
     "output_type": "execute_result"
    },
    {
     "data": {
      "text/plain": [
       "19237"
      ]
     },
     "execution_count": 24,
     "metadata": {},
     "output_type": "execute_result"
    },
    {
     "data": {
      "text/plain": [
       "113211"
      ]
     },
     "execution_count": 24,
     "metadata": {},
     "output_type": "execute_result"
    },
    {
     "data": {
      "text/plain": [
       "507"
      ]
     },
     "execution_count": 24,
     "metadata": {},
     "output_type": "execute_result"
    },
    {
     "data": {
      "text/plain": [
       "930"
      ]
     },
     "execution_count": 24,
     "metadata": {},
     "output_type": "execute_result"
    }
   ],
   "source": [
    "len(np.unique(events.event_id))\n",
    "len(np.unique(app_events.event_id))\n",
    "len(np.unique(app_events.app_id))\n",
    "len(np.unique(app_labels.app_id))\n",
    "len(np.unique(app_labels.label_id))\n",
    "len(np.unique(label_cat.label_id))"
   ]
  },
  {
   "cell_type": "markdown",
   "metadata": {},
   "source": [
    "** Thing here is, we only need details of app that were availbale on som eevent **"
   ]
  },
  {
   "cell_type": "code",
   "execution_count": 25,
   "metadata": {
    "collapsed": false
   },
   "outputs": [],
   "source": [
    "events = pd.merge(events, app_events, on='event_id', how = 'left')\n"
   ]
  },
  {
   "cell_type": "code",
   "execution_count": 26,
   "metadata": {
    "collapsed": false
   },
   "outputs": [],
   "source": [
    "events = pd.merge(events, app_labels, on='app_id', how = 'left')\n"
   ]
  },
  {
   "cell_type": "code",
   "execution_count": null,
   "metadata": {
    "collapsed": false
   },
   "outputs": [],
   "source": [
    "events = pd.merge(events, label_cat, on='label_id', how = 'left')\n"
   ]
  },
  {
   "cell_type": "code",
   "execution_count": null,
   "metadata": {
    "collapsed": false
   },
   "outputs": [],
   "source": [
    "train = pd.merge(gender_age_train, phone, how = 'left', on = 'device_id')\n",
    "train = pd.merge(train, events, how = 'left', on = 'device_id')\n",
    "train.shape()\n",
    "train.head(2)\n",
    "\n"
   ]
  },
  {
   "cell_type": "code",
   "execution_count": null,
   "metadata": {
    "collapsed": true
   },
   "outputs": [],
   "source": [
    "test = pd.merge(gender_age_test, phone, how = 'left', on = 'device_id')\n",
    "test = pd.merge(test, events, how = 'left', on = 'device_id')\n",
    "test.shape()\n",
    "test.head(2)"
   ]
  },
  {
   "cell_type": "code",
   "execution_count": null,
   "metadata": {
    "collapsed": true
   },
   "outputs": [],
   "source": []
  },
  {
   "cell_type": "code",
   "execution_count": null,
   "metadata": {
    "collapsed": true
   },
   "outputs": [],
   "source": []
  },
  {
   "cell_type": "code",
   "execution_count": null,
   "metadata": {
    "collapsed": true
   },
   "outputs": [],
   "source": []
  },
  {
   "cell_type": "code",
   "execution_count": null,
   "metadata": {
    "collapsed": true
   },
   "outputs": [],
   "source": []
  },
  {
   "cell_type": "code",
   "execution_count": null,
   "metadata": {
    "collapsed": true
   },
   "outputs": [],
   "source": []
  },
  {
   "cell_type": "code",
   "execution_count": null,
   "metadata": {
    "collapsed": true
   },
   "outputs": [],
   "source": []
  },
  {
   "cell_type": "code",
   "execution_count": null,
   "metadata": {
    "collapsed": true
   },
   "outputs": [],
   "source": []
  }
 ],
 "metadata": {
  "kernelspec": {
   "display_name": "Python 3",
   "language": "python",
   "name": "python3"
  },
  "language_info": {
   "codemirror_mode": {
    "name": "ipython",
    "version": 3
   },
   "file_extension": ".py",
   "mimetype": "text/x-python",
   "name": "python",
   "nbconvert_exporter": "python",
   "pygments_lexer": "ipython3",
   "version": "3.5.1"
  }
 },
 "nbformat": 4,
 "nbformat_minor": 2
}
